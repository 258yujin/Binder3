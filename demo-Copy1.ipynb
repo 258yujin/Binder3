{
 "cells": [
  {
   "cell_type": "code",
   "execution_count": 1,
   "metadata": {},
   "outputs": [
    {
     "ename": "ModuleNotFoundError",
     "evalue": "No module named 'cv2'",
     "output_type": "error",
     "traceback": [
      "\u001b[1;31m---------------------------------------------------------------------------\u001b[0m",
      "\u001b[1;31mModuleNotFoundError\u001b[0m                       Traceback (most recent call last)",
      "\u001b[1;32m<ipython-input-1-02085f5b35a9>\u001b[0m in \u001b[0;36m<module>\u001b[1;34m\u001b[0m\n\u001b[0;32m      3\u001b[0m \u001b[1;32mimport\u001b[0m \u001b[0mtkinter\u001b[0m\u001b[1;33m.\u001b[0m\u001b[0mfiledialog\u001b[0m\u001b[1;33m\u001b[0m\u001b[1;33m\u001b[0m\u001b[0m\n\u001b[0;32m      4\u001b[0m \u001b[1;32mimport\u001b[0m \u001b[0mos\u001b[0m\u001b[1;33m\u001b[0m\u001b[1;33m\u001b[0m\u001b[0m\n\u001b[1;32m----> 5\u001b[1;33m \u001b[1;32mimport\u001b[0m \u001b[0mcv2\u001b[0m\u001b[1;33m\u001b[0m\u001b[1;33m\u001b[0m\u001b[0m\n\u001b[0m\u001b[0;32m      6\u001b[0m \u001b[1;32mfrom\u001b[0m \u001b[0mPIL\u001b[0m \u001b[1;32mimport\u001b[0m \u001b[0mImage\u001b[0m\u001b[1;33m,\u001b[0m \u001b[0mImageTk\u001b[0m\u001b[1;33m\u001b[0m\u001b[1;33m\u001b[0m\u001b[0m\n\u001b[0;32m      7\u001b[0m \u001b[1;32mimport\u001b[0m \u001b[0mnumpy\u001b[0m \u001b[1;32mas\u001b[0m \u001b[0mnp\u001b[0m\u001b[1;33m\u001b[0m\u001b[1;33m\u001b[0m\u001b[0m\n",
      "\u001b[1;31mModuleNotFoundError\u001b[0m: No module named 'cv2'"
     ]
    }
   ],
   "source": [
    "import io\n",
    "import tkinter as tk\n",
    "import tkinter.filedialog\n",
    "import os\n",
    "import cv2\n",
    "from PIL import Image, ImageTk\n",
    "import numpy as np\n",
    "from tkinter.messagebox import showinfo\n",
    "import shutil"
   ]
  },
  {
   "cell_type": "code",
   "execution_count": null,
   "metadata": {},
   "outputs": [],
   "source": [
    "file_path = ''\n",
    "# file_path = 'E:\\python_code\\照片重命名软件\\MyPhotograph'\n",
    "zyb_path = ''\n",
    "fyb_path = ''\n",
    "ALL_SUM_NUMBER = 0   #这个就是当前文件的第几个个数\n",
    "all_name_nopng = []  #这个就是全部的路径（有png）！\n",
    "all_name_path = []  #这个就是全部的路径（没有png）！\n",
    "all_name = []  #这个就是全部的文件名，没有路径\n"
   ]
  },
  {
   "cell_type": "code",
   "execution_count": null,
   "metadata": {},
   "outputs": [],
   "source": [
    "def choose_path():\n",
    "    global ALL_SUM_NUMBER\n",
    "    global file_path\n",
    "    global all_name_nopng\n",
    "    global all_name_path\n",
    "    global all_name\n",
    "    global zyb_path\n",
    "    global fyb_path\n",
    "    file_path = '' #对于全局路径进行初始化\n",
    "    file_path = tk.filedialog.askdirectory(title='选择路径') #完整路径\n",
    "    all_name_nopng = []  # 没有完整的文件名（无.png） 这个是全局变量\n",
    "    all_name_path = []  # 完整的读文件的（有路径，有.png） 这个是全局变量 每次先清空一下（初始化）\n",
    "    k = 0 #这个的目的只是读当前文件夹下的照片\n",
    "    for root, dirs, files in os.walk(file_path):\n",
    "        if k != 0:\n",
    "            break\n",
    "        else:\n",
    "            if files == []:\n",
    "                pass  # 筛去子文件夹\n",
    "            else:\n",
    "                for i in range(len(files)):\n",
    "                    if '.png' not in files[i]:\n",
    "                        pass  # 筛除没有.jpg的文件\n",
    "                    else:\n",
    "                        all_name_nopng.append(root)\n",
    "                        all_name_path.append(root + os.sep + files[i])\n",
    "                        all_name.append(files[i])\n",
    "            k += 1\n",
    "    zyb_path = file_path + '/' + \"正样本\"\n",
    "    isExists = os.path.exists(zyb_path)\n",
    "    if not isExists:\n",
    "        # 如果不存在则创建目录\n",
    "        # 创建目录操作函数\n",
    "        os.makedirs(zyb_path)\n",
    "    fyb_path = file_path + '/' + \"负样本\"\n",
    "    isExists = os.path.exists(fyb_path)\n",
    "    if not isExists:\n",
    "        os.makedirs(fyb_path)\n",
    "\n",
    "    ALL_SUM_NUMBER = 0  # 初始化\n",
    "    try:\n",
    "        show_img(all_name_path[ALL_SUM_NUMBER])\n",
    "        print(str(all_name_path[ALL_SUM_NUMBER]), flush=True)\n",
    "    except IndexError:\n",
    "        message_error()"
   ]
  },
  {
   "cell_type": "code",
   "execution_count": null,
   "metadata": {},
   "outputs": [],
   "source": [
    "def show_img(img_path):\n",
    "    global all_name_nopng\n",
    "    global ALL_SUM_NUMBER\n",
    "    global all_name_path\n",
    "\n",
    "    img_original = cv2.imread(img_path, 0)\n",
    "    if img_original is None:\n",
    "        img_original = cv2.imdecode(np.fromfile(img_path, dtype=np.uint8), cv2.IMREAD_COLOR)\n",
    "    x, y = img_original.shape[0:2]\n",
    "    img_original_look = cv2.resize(img_original, (int(x * (120/100)), int(y * (60/100))))\n",
    "    # img_original_look_2 = cv2.cvtColor(img_original_look, cv2.COLOR_BGR2RGBA)\n",
    "    current_image = Image.fromarray(img_original_look)\n",
    "    imgtk = ImageTk.PhotoImage(image=current_image)\n",
    "    panel = tk.Label(window)\n",
    "    panel.place(x=10, y=50)\n",
    "    panel.imgtk = imgtk\n",
    "    panel.config(image=imgtk)\n",
    "\n",
    "    # 这个是展示图片的个数/总数\n",
    "    NULL_2_button = tk.Label(window, bg='yellow', width=20)\n",
    "    NULL_2_button.place(x=200, y=10, anchor='nw')\n",
    "    looknumber_button = tk.Label(window, text=str(ALL_SUM_NUMBER + 1) + '/' + str(len(all_name_path)))\n",
    "    looknumber_button.place(x=210, y=10, anchor='nw')\n",
    "    # 这个是展示图片的名字的\n",
    "    NULL_button = tk.Label(window, bg='yellow', width=20)\n",
    "    NULL_button.place(x=290, y=10, anchor='nw')\n",
    "    lookname_button = tk.Label(window, text=str(img_path[len(all_name_nopng[ALL_SUM_NUMBER]) + 1: -4]))\n",
    "    lookname_button.place(x=300, y=10, anchor='nw')\n",
    "\n",
    "    # # 这个是next键，用于查看下一个\n",
    "    # next_button = tk.Button(window, bg='yellow', text='下一个', command=fun_next)\n",
    "    # next_button.place(x=620, y=45, anchor='nw')\n",
    "    #\n",
    "    # # 这个是before键，用于查看上一个\n",
    "    # before_button = tk.Button(window, bg='yellow', text='上一个', command=fun_before)\n",
    "    # before_button.place(x=620, y=125, anchor='nw')\n",
    "\n",
    "    # 正样本\n",
    "    zyb_button = tk.Button(window, bg='yellow', text='正样本', command=fun_1)\n",
    "    zyb_button.place(x=620, y=208, anchor='nw')\n",
    "\n",
    "    #负样本\n",
    "    fyb_button = tk.Button(window, bg='yellow', text='负样本', command=fun_2)\n",
    "    fyb_button.place(x=620, y=285, anchor='nw')\n",
    "\n",
    "    # 查看详细图片信息的，我先删除了\n",
    "    # # 这个是查看详细的图片信息\n",
    "    # def look_img():\n",
    "    #     plt.imshow(img_original, 'gray')\n",
    "    #     plt.show()\n",
    "    # # 这个是查看的button\n",
    "    # tk.Button(window, bg='yellow', text=\"LOOK\", font=('Arial', 12), width=15, command=look_img).place(x=90, y=650)\n"
   ]
  },
  {
   "cell_type": "code",
   "execution_count": null,
   "metadata": {},
   "outputs": [],
   "source": [
    "def fun_1():\n",
    "    global zyb_path\n",
    "    global ALL_SUM_NUMBER\n",
    "    global all_name_path\n",
    "    global all_name_nopng\n",
    "    global all_name\n",
    "    shutil.copy(all_name_path[ALL_SUM_NUMBER],zyb_path + '/' + all_name[ALL_SUM_NUMBER])\n",
    "    print(all_name[ALL_SUM_NUMBER] + \" into 正样本\")\n",
    "    #这个是删除当前文件夹内的图片\n",
    "    os.remove(all_name_path[ALL_SUM_NUMBER])\n",
    "    ALL_SUM_NUMBER += 1\n",
    "    if ALL_SUM_NUMBER >= len(all_name_path):\n",
    "        message_fun()  # 这个是用来判断是否是最后一个了\n",
    "    else:\n",
    "        show_img(all_name_path[ALL_SUM_NUMBER])"
   ]
  },
  {
   "cell_type": "code",
   "execution_count": null,
   "metadata": {},
   "outputs": [],
   "source": [
    "def fun_2():\n",
    "    global fyb_path\n",
    "    global ALL_SUM_NUMBER\n",
    "    global all_name_path\n",
    "    global all_name_nopng\n",
    "    global all_name\n",
    "    shutil.copy(all_name_path[ALL_SUM_NUMBER],fyb_path + '/' + all_name[ALL_SUM_NUMBER])\n",
    "    print(all_name[ALL_SUM_NUMBER] + \" into 负样本\")\n",
    "    #这个是删除当前文件夹内的图片\n",
    "    os.remove(all_name_path[ALL_SUM_NUMBER])\n",
    "    ALL_SUM_NUMBER += 1\n",
    "    if ALL_SUM_NUMBER >= len(all_name_path):\n",
    "        message_fun()  # 这个是用来判断是否是最后一个了\n",
    "    else:\n",
    "        show_img(all_name_path[ALL_SUM_NUMBER])"
   ]
  },
  {
   "cell_type": "code",
   "execution_count": null,
   "metadata": {},
   "outputs": [],
   "source": [
    "def message_error():\n",
    "    # 提示有是否有数据\n",
    "    showinfo(title='提示', message='没有文件')\n",
    "\n",
    "def fun_next():\n",
    "    '''\n",
    "    这个是用于跳转下一个图片\n",
    "    '''\n",
    "    global ALL_SUM_NUMBER\n",
    "    global all_name_path\n",
    "    global file_path\n",
    "    ALL_SUM_NUMBER += 1\n",
    "    if ALL_SUM_NUMBER >= len(all_name_path):\n",
    "        message_fun()  # 这个是用来判断是否是最后一个了\n",
    "    else:\n",
    "        print(str(all_name_path[ALL_SUM_NUMBER]), flush=True)\n",
    "        show_img(all_name_path[ALL_SUM_NUMBER])"
   ]
  },
  {
   "cell_type": "code",
   "execution_count": null,
   "metadata": {},
   "outputs": [],
   "source": [
    "def fun_before():\n",
    "    global ALL_SUM_NUMBER\n",
    "    global all_name_path\n",
    "    ALL_SUM_NUMBER -= 1\n",
    "    if ALL_SUM_NUMBER < 0:\n",
    "        message_fun_2()  # 这个是用来判断是否是最后一个了\n",
    "    else:\n",
    "        print(str(all_name_path[ALL_SUM_NUMBER]), flush=True)\n",
    "        show_img(all_name_path[ALL_SUM_NUMBER])\n",
    "\n",
    "def message_fun():\n",
    "    # 提示最后一个\n",
    "    showinfo(title='提示', message='已经是最后一个了')\n",
    "\n",
    "def message_fun_2():\n",
    "    # 提示第一个\n",
    "    showinfo(title='提示', message='已经是第一个了')\n"
   ]
  },
  {
   "cell_type": "code",
   "execution_count": null,
   "metadata": {},
   "outputs": [],
   "source": [
    "if __name__ == '__main__':\n",
    "    #设定基本的信息\n",
    "    window = tk.Tk()\n",
    "    window.title(\"g_test\")\n",
    "    window.geometry('700x480')\n",
    "    #选择文件夹路径\n",
    "    choose_button = tk.Button(window, bg='yellow', text='选择路径', command=choose_path)\n",
    "    choose_button.place(x=20, y=10, anchor='nw')\n",
    "    window.mainloop()"
   ]
  },
  {
   "cell_type": "code",
   "execution_count": null,
   "metadata": {},
   "outputs": [],
   "source": []
  },
  {
   "cell_type": "code",
   "execution_count": null,
   "metadata": {},
   "outputs": [],
   "source": []
  },
  {
   "cell_type": "code",
   "execution_count": null,
   "metadata": {},
   "outputs": [],
   "source": []
  },
  {
   "cell_type": "code",
   "execution_count": 2,
   "metadata": {},
   "outputs": [],
   "source": []
  },
  {
   "cell_type": "code",
   "execution_count": null,
   "metadata": {},
   "outputs": [],
   "source": []
  },
  {
   "cell_type": "code",
   "execution_count": null,
   "metadata": {},
   "outputs": [],
   "source": []
  },
  {
   "cell_type": "code",
   "execution_count": null,
   "metadata": {},
   "outputs": [],
   "source": []
  },
  {
   "cell_type": "code",
   "execution_count": null,
   "metadata": {},
   "outputs": [],
   "source": []
  },
  {
   "cell_type": "code",
   "execution_count": null,
   "metadata": {},
   "outputs": [],
   "source": []
  },
  {
   "cell_type": "code",
   "execution_count": null,
   "metadata": {},
   "outputs": [],
   "source": []
  },
  {
   "cell_type": "code",
   "execution_count": null,
   "metadata": {},
   "outputs": [],
   "source": []
  },
  {
   "cell_type": "code",
   "execution_count": null,
   "metadata": {},
   "outputs": [],
   "source": []
  },
  {
   "cell_type": "code",
   "execution_count": null,
   "metadata": {},
   "outputs": [],
   "source": []
  },
  {
   "cell_type": "code",
   "execution_count": null,
   "metadata": {},
   "outputs": [],
   "source": []
  },
  {
   "cell_type": "code",
   "execution_count": null,
   "metadata": {},
   "outputs": [],
   "source": []
  },
  {
   "cell_type": "code",
   "execution_count": null,
   "metadata": {},
   "outputs": [],
   "source": []
  },
  {
   "cell_type": "code",
   "execution_count": null,
   "metadata": {},
   "outputs": [],
   "source": []
  },
  {
   "cell_type": "code",
   "execution_count": null,
   "metadata": {},
   "outputs": [],
   "source": []
  },
  {
   "cell_type": "code",
   "execution_count": null,
   "metadata": {},
   "outputs": [],
   "source": []
  },
  {
   "cell_type": "code",
   "execution_count": null,
   "metadata": {},
   "outputs": [],
   "source": []
  },
  {
   "cell_type": "code",
   "execution_count": null,
   "metadata": {},
   "outputs": [],
   "source": []
  },
  {
   "cell_type": "code",
   "execution_count": null,
   "metadata": {},
   "outputs": [],
   "source": []
  },
  {
   "cell_type": "code",
   "execution_count": null,
   "metadata": {},
   "outputs": [],
   "source": []
  },
  {
   "cell_type": "code",
   "execution_count": null,
   "metadata": {},
   "outputs": [],
   "source": []
  },
  {
   "cell_type": "code",
   "execution_count": null,
   "metadata": {},
   "outputs": [],
   "source": []
  },
  {
   "cell_type": "code",
   "execution_count": null,
   "metadata": {},
   "outputs": [],
   "source": []
  },
  {
   "cell_type": "code",
   "execution_count": null,
   "metadata": {},
   "outputs": [],
   "source": []
  },
  {
   "cell_type": "code",
   "execution_count": null,
   "metadata": {},
   "outputs": [],
   "source": []
  },
  {
   "cell_type": "code",
   "execution_count": null,
   "metadata": {},
   "outputs": [],
   "source": []
  },
  {
   "cell_type": "code",
   "execution_count": null,
   "metadata": {},
   "outputs": [],
   "source": []
  },
  {
   "cell_type": "code",
   "execution_count": null,
   "metadata": {},
   "outputs": [],
   "source": []
  },
  {
   "cell_type": "code",
   "execution_count": null,
   "metadata": {},
   "outputs": [],
   "source": []
  },
  {
   "cell_type": "code",
   "execution_count": null,
   "metadata": {},
   "outputs": [],
   "source": []
  },
  {
   "cell_type": "code",
   "execution_count": null,
   "metadata": {},
   "outputs": [],
   "source": []
  },
  {
   "cell_type": "code",
   "execution_count": null,
   "metadata": {},
   "outputs": [],
   "source": []
  },
  {
   "cell_type": "code",
   "execution_count": null,
   "metadata": {},
   "outputs": [],
   "source": []
  },
  {
   "cell_type": "code",
   "execution_count": null,
   "metadata": {},
   "outputs": [],
   "source": []
  },
  {
   "cell_type": "code",
   "execution_count": null,
   "metadata": {},
   "outputs": [],
   "source": []
  }
 ],
 "metadata": {
  "kernelspec": {
   "display_name": "Python 3",
   "language": "python",
   "name": "python3"
  },
  "language_info": {
   "codemirror_mode": {
    "name": "ipython",
    "version": 3
   },
   "file_extension": ".py",
   "mimetype": "text/x-python",
   "name": "python",
   "nbconvert_exporter": "python",
   "pygments_lexer": "ipython3",
   "version": "3.8.5"
  }
 },
 "nbformat": 4,
 "nbformat_minor": 2
}
